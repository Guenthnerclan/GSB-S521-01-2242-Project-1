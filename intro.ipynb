{
 "cells": [
  {
   "cell_type": "markdown",
   "id": "ya7WWz3RVvJF",
   "metadata": {
    "id": "ya7WWz3RVvJF"
   },
   "source": [
    "For this analysis we will look at respective household income extremes in republican vs democratic districts. To do so, we will leverage two data sources that we will need to combine together. \n",
    "\n",
    "First, we will use the American Community Survey 2021 dataset available from census.gov. The data is available via API from here: https://www.census.gov/data/developers/data-sets/acs-1year.html. This data is commonly referenced when people are looking for demographic breakdowns of the American population. This data refers back to the 116th congressional district. \n",
    "\n",
    "Second, to get the party affiliation of each congressional district, we will use https://www.house.gov/representatives. Someone has already scraped the house.gov site to turn it into a csv here: http://goodcsv.com/politics/us-house-of-representatives-2020/ for the 116th congressional district.\n"
   ]
  },
  {
   "cell_type": "code",
   "execution_count": 1,
   "id": "b54fd5b3-4ea0-4f5f-82e1-799335fd0901",
   "metadata": {
    "id": "b54fd5b3-4ea0-4f5f-82e1-799335fd0901",
    "tags": []
   },
   "outputs": [],
   "source": [
    "# first some initial setup of libraries we will be using\n",
    "import pandas as pd # this is the main library used in python for manipulating data. \n",
    "import json # this is a library to parse json (javascript object notation)\n",
    "from urllib.request import urlopen # library to read data from a URL\n",
    "import matplotlib.pyplot as plt # visualization library we will use that integrates with pandas"
   ]
  },
  {
   "cell_type": "markdown",
   "id": "d59a0e36-e6a4-47fa-85ce-9ac3eaf208e1",
   "metadata": {
    "id": "d59a0e36-e6a4-47fa-85ce-9ac3eaf208e1"
   },
   "source": [
    "First we will read the ACS 2021 dataset and get it into a usable state for our data analysis."
   ]
  },
  {
   "cell_type": "code",
   "execution_count": 2,
   "id": "17533d73-9c50-420f-ac18-cf82271cca27",
   "metadata": {
    "colab": {
     "base_uri": "https://localhost:8080/",
     "height": 206
    },
    "id": "17533d73-9c50-420f-ac18-cf82271cca27",
    "outputId": "15bb8d1e-4f82-4981-cb6b-917ab2995eca",
    "tags": []
   },
   "outputs": [
    {
     "data": {
      "text/html": [
       "<div>\n",
       "<style scoped>\n",
       "    .dataframe tbody tr th:only-of-type {\n",
       "        vertical-align: middle;\n",
       "    }\n",
       "\n",
       "    .dataframe tbody tr th {\n",
       "        vertical-align: top;\n",
       "    }\n",
       "\n",
       "    .dataframe thead th {\n",
       "        text-align: right;\n",
       "    }\n",
       "</style>\n",
       "<table border=\"1\" class=\"dataframe\">\n",
       "  <thead>\n",
       "    <tr style=\"text-align: right;\">\n",
       "      <th></th>\n",
       "      <th>Total Households</th>\n",
       "      <th>Less than $10k</th>\n",
       "      <th>$200k+</th>\n",
       "      <th>district number</th>\n",
       "      <th>State</th>\n",
       "    </tr>\n",
       "  </thead>\n",
       "  <tbody>\n",
       "    <tr>\n",
       "      <th>0</th>\n",
       "      <td>289474</td>\n",
       "      <td>14153</td>\n",
       "      <td>19390</td>\n",
       "      <td>10</td>\n",
       "      <td>Michigan</td>\n",
       "    </tr>\n",
       "    <tr>\n",
       "      <th>1</th>\n",
       "      <td>299804</td>\n",
       "      <td>23793</td>\n",
       "      <td>10899</td>\n",
       "      <td>4</td>\n",
       "      <td>Mississippi</td>\n",
       "    </tr>\n",
       "    <tr>\n",
       "      <th>2</th>\n",
       "      <td>278057</td>\n",
       "      <td>27728</td>\n",
       "      <td>19574</td>\n",
       "      <td>14</td>\n",
       "      <td>Michigan</td>\n",
       "    </tr>\n",
       "    <tr>\n",
       "      <th>3</th>\n",
       "      <td>306685</td>\n",
       "      <td>19036</td>\n",
       "      <td>12208</td>\n",
       "      <td>1</td>\n",
       "      <td>Michigan</td>\n",
       "    </tr>\n",
       "    <tr>\n",
       "      <th>4</th>\n",
       "      <td>285554</td>\n",
       "      <td>26481</td>\n",
       "      <td>12412</td>\n",
       "      <td>3</td>\n",
       "      <td>Mississippi</td>\n",
       "    </tr>\n",
       "  </tbody>\n",
       "</table>\n",
       "</div>"
      ],
      "text/plain": [
       "  Total Households Less than $10k $200k+  district number        State\n",
       "0           289474          14153  19390               10     Michigan\n",
       "1           299804          23793  10899                4  Mississippi\n",
       "2           278057          27728  19574               14     Michigan\n",
       "3           306685          19036  12208                1     Michigan\n",
       "4           285554          26481  12412                3  Mississippi"
      ]
     },
     "execution_count": 2,
     "metadata": {},
     "output_type": "execute_result"
    }
   ],
   "source": [
    "# We are reading in the data we want from ACS 2021. The API returns json data. Try copy and pasting the link yourself in a browser to see what the raw data looks like.\n",
    "url=\"https://api.census.gov/data/2021/acs/acs1?get=NAME,B19001_001E,B19001_002E,B19001_017E&for=congressional%20district:*&in=state:*\"\n",
    "\n",
    "# store the response of URL\n",
    "response = urlopen(url)\n",
    "\n",
    "# storing the JSON response from url in data\n",
    "data_json = json.loads(response.read())\n",
    "data_json.pop(0) # the first row of data is header information which we don't need, so pop removes that from the dataset.\n",
    "\n",
    "# Hand populate the columns based on the variable descriptions census.gov documents here:\n",
    "# https://api.census.gov/data/2021/acs/acs1/variables.html. Note they correspond back to the variable names I included in the URL above.\n",
    "cols = ['District Name','Total Households','Less than $10k', '$200k+', 'State code', 'district number']\n",
    "\n",
    "acs_df = pd.DataFrame(data_json, columns = cols)\n",
    "\n",
    "# time to do some basic cleanup of the data. We will need to extract the district number and state in a regular format so we can later join with the party data.\n",
    "acs_df[['District', 'State']] = acs_df['District Name'].str.split(',', expand=True)\n",
    "acs_df['district number'] = pd.to_numeric(acs_df['district number'])\n",
    "\n",
    "acs_df['State'] = acs_df['State'].str.strip()\n",
    "\n",
    "# Let's just keep the columns we need\n",
    "acs_df = acs_df[['Total Households', 'Less than $10k', \"$200k+\", 'district number', 'State']]\n",
    "\n",
    "# take a look at the top results in the dataset\n",
    "acs_df.head()"
   ]
  },
  {
   "cell_type": "code",
   "execution_count": 3,
   "id": "o0al3-7pkzZG",
   "metadata": {
    "colab": {
     "base_uri": "https://localhost:8080/",
     "height": 268
    },
    "id": "o0al3-7pkzZG",
    "outputId": "5e29b938-c11d-42e2-c439-88a0400d301c",
    "tags": []
   },
   "outputs": [
    {
     "data": {
      "text/html": [
       "<div>\n",
       "<style scoped>\n",
       "    .dataframe tbody tr th:only-of-type {\n",
       "        vertical-align: middle;\n",
       "    }\n",
       "\n",
       "    .dataframe tbody tr th {\n",
       "        vertical-align: top;\n",
       "    }\n",
       "\n",
       "    .dataframe thead th {\n",
       "        text-align: right;\n",
       "    }\n",
       "</style>\n",
       "<table border=\"1\" class=\"dataframe\">\n",
       "  <thead>\n",
       "    <tr style=\"text-align: right;\">\n",
       "      <th></th>\n",
       "      <th>Total Households</th>\n",
       "      <th>Less than $10k</th>\n",
       "      <th>$200k+</th>\n",
       "      <th>district number</th>\n",
       "      <th>State</th>\n",
       "      <th>% of households over $200k</th>\n",
       "      <th>% of households less than $10k</th>\n",
       "    </tr>\n",
       "  </thead>\n",
       "  <tbody>\n",
       "    <tr>\n",
       "      <th>0</th>\n",
       "      <td>289474</td>\n",
       "      <td>14153</td>\n",
       "      <td>19390</td>\n",
       "      <td>10</td>\n",
       "      <td>Michigan</td>\n",
       "      <td>6.698356</td>\n",
       "      <td>4.889213</td>\n",
       "    </tr>\n",
       "    <tr>\n",
       "      <th>1</th>\n",
       "      <td>299804</td>\n",
       "      <td>23793</td>\n",
       "      <td>10899</td>\n",
       "      <td>4</td>\n",
       "      <td>Mississippi</td>\n",
       "      <td>3.635375</td>\n",
       "      <td>7.936185</td>\n",
       "    </tr>\n",
       "    <tr>\n",
       "      <th>2</th>\n",
       "      <td>278057</td>\n",
       "      <td>27728</td>\n",
       "      <td>19574</td>\n",
       "      <td>14</td>\n",
       "      <td>Michigan</td>\n",
       "      <td>7.039564</td>\n",
       "      <td>9.972056</td>\n",
       "    </tr>\n",
       "    <tr>\n",
       "      <th>3</th>\n",
       "      <td>306685</td>\n",
       "      <td>19036</td>\n",
       "      <td>12208</td>\n",
       "      <td>1</td>\n",
       "      <td>Michigan</td>\n",
       "      <td>3.980632</td>\n",
       "      <td>6.207020</td>\n",
       "    </tr>\n",
       "    <tr>\n",
       "      <th>4</th>\n",
       "      <td>285554</td>\n",
       "      <td>26481</td>\n",
       "      <td>12412</td>\n",
       "      <td>3</td>\n",
       "      <td>Mississippi</td>\n",
       "      <td>4.346638</td>\n",
       "      <td>9.273552</td>\n",
       "    </tr>\n",
       "  </tbody>\n",
       "</table>\n",
       "</div>"
      ],
      "text/plain": [
       "   Total Households  Less than $10k  $200k+  district number        State  \\\n",
       "0            289474           14153   19390               10     Michigan   \n",
       "1            299804           23793   10899                4  Mississippi   \n",
       "2            278057           27728   19574               14     Michigan   \n",
       "3            306685           19036   12208                1     Michigan   \n",
       "4            285554           26481   12412                3  Mississippi   \n",
       "\n",
       "   % of households over $200k  % of households less than $10k  \n",
       "0                    6.698356                        4.889213  \n",
       "1                    3.635375                        7.936185  \n",
       "2                    7.039564                        9.972056  \n",
       "3                    3.980632                        6.207020  \n",
       "4                    4.346638                        9.273552  "
      ]
     },
     "execution_count": 3,
     "metadata": {},
     "output_type": "execute_result"
    }
   ],
   "source": [
    "\n",
    "# Convert the number columns into number data types so we can math on them\n",
    "acs_df[\"Total Households\"] = pd.to_numeric(acs_df[\"Total Households\"])\n",
    "acs_df[\"Less than $10k\"] = pd.to_numeric(acs_df[\"Less than $10k\"])\n",
    "acs_df['$200k+'] = pd.to_numeric(acs_df['$200k+'])\n",
    "\n",
    "# Compute some new columns based on the existing columns for later visualization\n",
    "acs_df['% of households over $200k'] = (100*acs_df['$200k+'])/acs_df['Total Households']\n",
    "acs_df['% of households less than $10k'] = (100*acs_df['Less than $10k'])/acs_df['Total Households']\n",
    "\n",
    "# now let's look at the data again\n",
    "acs_df.head()"
   ]
  },
  {
   "cell_type": "markdown",
   "id": "4Z-m4r-FaMna",
   "metadata": {
    "id": "4Z-m4r-FaMna"
   },
   "source": [
    "Now let's get our party affiliation data in a state to merge with the ACS data."
   ]
  },
  {
   "cell_type": "code",
   "execution_count": 4,
   "id": "v_j3pUTBi5rg",
   "metadata": {
    "colab": {
     "base_uri": "https://localhost:8080/",
     "height": 206
    },
    "id": "v_j3pUTBi5rg",
    "outputId": "d0402237-5992-4e95-beaa-480c239c9313",
    "tags": []
   },
   "outputs": [
    {
     "data": {
      "text/html": [
       "<div>\n",
       "<style scoped>\n",
       "    .dataframe tbody tr th:only-of-type {\n",
       "        vertical-align: middle;\n",
       "    }\n",
       "\n",
       "    .dataframe tbody tr th {\n",
       "        vertical-align: top;\n",
       "    }\n",
       "\n",
       "    .dataframe thead th {\n",
       "        text-align: right;\n",
       "    }\n",
       "</style>\n",
       "<table border=\"1\" class=\"dataframe\">\n",
       "  <thead>\n",
       "    <tr style=\"text-align: right;\">\n",
       "      <th></th>\n",
       "      <th>State</th>\n",
       "      <th>Party</th>\n",
       "      <th>district number</th>\n",
       "    </tr>\n",
       "  </thead>\n",
       "  <tbody>\n",
       "    <tr>\n",
       "      <th>0</th>\n",
       "      <td>Louisiana</td>\n",
       "      <td>R</td>\n",
       "      <td>5</td>\n",
       "    </tr>\n",
       "    <tr>\n",
       "      <th>1</th>\n",
       "      <td>North Carolina</td>\n",
       "      <td>D</td>\n",
       "      <td>12</td>\n",
       "    </tr>\n",
       "    <tr>\n",
       "      <th>2</th>\n",
       "      <td>Alabama</td>\n",
       "      <td>R</td>\n",
       "      <td>4</td>\n",
       "    </tr>\n",
       "    <tr>\n",
       "      <th>3</th>\n",
       "      <td>California</td>\n",
       "      <td>D</td>\n",
       "      <td>31</td>\n",
       "    </tr>\n",
       "    <tr>\n",
       "      <th>4</th>\n",
       "      <td>Georgia</td>\n",
       "      <td>R</td>\n",
       "      <td>12</td>\n",
       "    </tr>\n",
       "  </tbody>\n",
       "</table>\n",
       "</div>"
      ],
      "text/plain": [
       "            State Party  district number\n",
       "0       Louisiana     R                5\n",
       "1  North Carolina     D               12\n",
       "2         Alabama     R                4\n",
       "3      California     D               31\n",
       "4         Georgia     R               12"
      ]
     },
     "execution_count": 4,
     "metadata": {},
     "output_type": "execute_result"
    }
   ],
   "source": [
    "# read from the congressional data and put into a pandas dataframe\n",
    "party_df = pd.read_csv(\"http://goodcsv.com/wp-content/uploads/2020/08/us-house-of-representatives-2020.csv\", encoding = \"ISO-8859-1\")\n",
    "\n",
    "# extract the district number from the data (it was in the format of 5th and we want that to just be 5) using a regular expression.\n",
    "party_df['district number'] = party_df['District/Position'].str.extract('(\\d+)')\n",
    "party_df['district number'] = party_df['district number'].fillna(0)\n",
    "party_df['district number'] = pd.to_numeric(party_df['district number'])\n",
    "party_df['State'] = party_df['State/Territory']\n",
    "party_df['State'] = party_df['State'].str.strip()\n",
    "party_df['Party'] = party_df['Party'].str.strip() # remove extraneous whitespace\n",
    "\n",
    "# Let's just keep the columns we need\n",
    "party_df = party_df[['State', 'Party', \"district number\"]]\n",
    "\n",
    "party_df.head(5)"
   ]
  },
  {
   "cell_type": "markdown",
   "id": "79YhG46leI25",
   "metadata": {
    "id": "79YhG46leI25"
   },
   "source": [
    "Let's pull some statistics on the two datasets quickly before we join them so we can sanity check that the join worked ok."
   ]
  },
  {
   "cell_type": "code",
   "execution_count": 5,
   "id": "57_fH7GFeHlb",
   "metadata": {
    "colab": {
     "base_uri": "https://localhost:8080/"
    },
    "id": "57_fH7GFeHlb",
    "outputId": "bcad09a2-7a22-4036-92f0-4cfec3081c76",
    "tags": []
   },
   "outputs": [
    {
     "data": {
      "text/plain": [
       "State\n",
       "California                  53\n",
       "Texas                       36\n",
       "New York                    27\n",
       "Florida                     27\n",
       "Pennsylvania                18\n",
       "Illinois                    18\n",
       "Ohio                        16\n",
       "Michigan                    14\n",
       "Georgia                     14\n",
       "North Carolina              13\n",
       "New Jersey                  12\n",
       "Virginia                    11\n",
       "Washington                  10\n",
       "Indiana                      9\n",
       "Arizona                      9\n",
       "Tennessee                    9\n",
       "Massachusetts                9\n",
       "Minnesota                    8\n",
       "Missouri                     8\n",
       "Maryland                     8\n",
       "Wisconsin                    8\n",
       "Colorado                     7\n",
       "Alabama                      7\n",
       "South Carolina               7\n",
       "Louisiana                    6\n",
       "Kentucky                     6\n",
       "Oklahoma                     5\n",
       "Oregon                       5\n",
       "Connecticut                  5\n",
       "Nevada                       4\n",
       "Kansas                       4\n",
       "Arkansas                     4\n",
       "Iowa                         4\n",
       "Mississippi                  4\n",
       "Utah                         4\n",
       "West Virginia                3\n",
       "Nebraska                     3\n",
       "New Mexico                   3\n",
       "New Hampshire                2\n",
       "Maine                        2\n",
       "Rhode Island                 2\n",
       "Idaho                        2\n",
       "Hawaii                       2\n",
       "Montana                      1\n",
       "Puerto Rico                  1\n",
       "Wyoming                      1\n",
       "South Dakota                 1\n",
       "Delaware                     1\n",
       "North Dakota                 1\n",
       "District of Columbia         1\n",
       "Virgin Islands               1\n",
       "American Samoa               1\n",
       "Northern Mariana Islands     1\n",
       "Guam                         1\n",
       "Vermont                      1\n",
       "Alaska                       1\n",
       "Name: count, dtype: int64"
      ]
     },
     "execution_count": 5,
     "metadata": {},
     "output_type": "execute_result"
    }
   ],
   "source": [
    "party_df['State'].value_counts()"
   ]
  },
  {
   "cell_type": "code",
   "execution_count": 6,
   "id": "Ht0jwM_beQrj",
   "metadata": {
    "colab": {
     "base_uri": "https://localhost:8080/"
    },
    "id": "Ht0jwM_beQrj",
    "outputId": "23fd5e10-81e0-42ec-ef30-91ce700cc4b9",
    "tags": []
   },
   "outputs": [
    {
     "data": {
      "text/plain": [
       "State\n",
       "California              53\n",
       "Texas                   36\n",
       "Florida                 27\n",
       "New York                27\n",
       "Illinois                18\n",
       "Pennsylvania            18\n",
       "Ohio                    16\n",
       "Georgia                 14\n",
       "Michigan                14\n",
       "North Carolina          13\n",
       "New Jersey              12\n",
       "Virginia                11\n",
       "Washington              10\n",
       "Indiana                  9\n",
       "Massachusetts            9\n",
       "Arizona                  9\n",
       "Tennessee                9\n",
       "Missouri                 8\n",
       "Wisconsin                8\n",
       "Minnesota                8\n",
       "Maryland                 8\n",
       "South Carolina           7\n",
       "Alabama                  7\n",
       "Colorado                 7\n",
       "Kentucky                 6\n",
       "Louisiana                6\n",
       "Connecticut              5\n",
       "Oklahoma                 5\n",
       "Oregon                   5\n",
       "Iowa                     4\n",
       "Kansas                   4\n",
       "Arkansas                 4\n",
       "Mississippi              4\n",
       "Nevada                   4\n",
       "Utah                     4\n",
       "New Mexico               3\n",
       "West Virginia            3\n",
       "Nebraska                 3\n",
       "Rhode Island             2\n",
       "New Hampshire            2\n",
       "Hawaii                   2\n",
       "Idaho                    2\n",
       "Maine                    2\n",
       "South Dakota             1\n",
       "Wyoming                  1\n",
       "Alaska                   1\n",
       "Montana                  1\n",
       "North Dakota             1\n",
       "Vermont                  1\n",
       "Delaware                 1\n",
       "Puerto Rico              1\n",
       "District of Columbia     1\n",
       "Name: count, dtype: int64"
      ]
     },
     "execution_count": 6,
     "metadata": {},
     "output_type": "execute_result"
    }
   ],
   "source": [
    "acs_df['State'].value_counts()"
   ]
  },
  {
   "cell_type": "markdown",
   "id": "i5Tsr692e1-W",
   "metadata": {
    "id": "i5Tsr692e1-W"
   },
   "source": [
    "So the ACS dataset has stats for DC and Puerto Rico. The party datset has other terratories like the Virgin Islands. The state counts look right though. Let's go ahead and merge."
   ]
  },
  {
   "cell_type": "code",
   "execution_count": 7,
   "id": "RaOrihV8o_41",
   "metadata": {
    "id": "RaOrihV8o_41",
    "tags": []
   },
   "outputs": [],
   "source": [
    "# Merge is like a sql natural join. We are joining on the State and District numbers being the same between the two sets.\n",
    "merged_df = pd.merge(acs_df, party_df, on=[\"State\", \"district number\"])"
   ]
  },
  {
   "cell_type": "code",
   "execution_count": 8,
   "id": "lHr5k7TUpTao",
   "metadata": {
    "colab": {
     "base_uri": "https://localhost:8080/",
     "height": 362
    },
    "id": "lHr5k7TUpTao",
    "outputId": "12d6b15a-40c4-4dcd-dfe2-e19f7dbd7dc6",
    "tags": []
   },
   "outputs": [
    {
     "data": {
      "text/html": [
       "<div>\n",
       "<style scoped>\n",
       "    .dataframe tbody tr th:only-of-type {\n",
       "        vertical-align: middle;\n",
       "    }\n",
       "\n",
       "    .dataframe tbody tr th {\n",
       "        vertical-align: top;\n",
       "    }\n",
       "\n",
       "    .dataframe thead th {\n",
       "        text-align: right;\n",
       "    }\n",
       "</style>\n",
       "<table border=\"1\" class=\"dataframe\">\n",
       "  <thead>\n",
       "    <tr style=\"text-align: right;\">\n",
       "      <th></th>\n",
       "      <th>Total Households</th>\n",
       "      <th>Less than $10k</th>\n",
       "      <th>$200k+</th>\n",
       "      <th>district number</th>\n",
       "      <th>% of households over $200k</th>\n",
       "      <th>% of households less than $10k</th>\n",
       "    </tr>\n",
       "  </thead>\n",
       "  <tbody>\n",
       "    <tr>\n",
       "      <th>count</th>\n",
       "      <td>435.000000</td>\n",
       "      <td>435.000000</td>\n",
       "      <td>435.000000</td>\n",
       "      <td>435.000000</td>\n",
       "      <td>435.000000</td>\n",
       "      <td>435.000000</td>\n",
       "    </tr>\n",
       "    <tr>\n",
       "      <th>mean</th>\n",
       "      <td>292471.643678</td>\n",
       "      <td>17605.977011</td>\n",
       "      <td>28522.944828</td>\n",
       "      <td>10.158621</td>\n",
       "      <td>9.721602</td>\n",
       "      <td>6.050237</td>\n",
       "    </tr>\n",
       "    <tr>\n",
       "      <th>std</th>\n",
       "      <td>33670.787672</td>\n",
       "      <td>6047.931263</td>\n",
       "      <td>18902.411362</td>\n",
       "      <td>10.656779</td>\n",
       "      <td>6.417955</td>\n",
       "      <td>2.106075</td>\n",
       "    </tr>\n",
       "    <tr>\n",
       "      <th>min</th>\n",
       "      <td>183319.000000</td>\n",
       "      <td>6021.000000</td>\n",
       "      <td>5296.000000</td>\n",
       "      <td>0.000000</td>\n",
       "      <td>2.025905</td>\n",
       "      <td>2.208934</td>\n",
       "    </tr>\n",
       "    <tr>\n",
       "      <th>25%</th>\n",
       "      <td>273747.000000</td>\n",
       "      <td>13416.000000</td>\n",
       "      <td>14916.000000</td>\n",
       "      <td>3.000000</td>\n",
       "      <td>5.184740</td>\n",
       "      <td>4.653305</td>\n",
       "    </tr>\n",
       "    <tr>\n",
       "      <th>50%</th>\n",
       "      <td>292311.000000</td>\n",
       "      <td>16617.000000</td>\n",
       "      <td>22543.000000</td>\n",
       "      <td>6.000000</td>\n",
       "      <td>7.618205</td>\n",
       "      <td>5.679285</td>\n",
       "    </tr>\n",
       "    <tr>\n",
       "      <th>75%</th>\n",
       "      <td>311849.500000</td>\n",
       "      <td>21013.500000</td>\n",
       "      <td>37009.500000</td>\n",
       "      <td>13.000000</td>\n",
       "      <td>12.689262</td>\n",
       "      <td>7.036059</td>\n",
       "    </tr>\n",
       "    <tr>\n",
       "      <th>max</th>\n",
       "      <td>448949.000000</td>\n",
       "      <td>44929.000000</td>\n",
       "      <td>111988.000000</td>\n",
       "      <td>53.000000</td>\n",
       "      <td>41.846370</td>\n",
       "      <td>16.858153</td>\n",
       "    </tr>\n",
       "  </tbody>\n",
       "</table>\n",
       "</div>"
      ],
      "text/plain": [
       "       Total Households  Less than $10k         $200k+  district number  \\\n",
       "count        435.000000      435.000000     435.000000       435.000000   \n",
       "mean      292471.643678    17605.977011   28522.944828        10.158621   \n",
       "std        33670.787672     6047.931263   18902.411362        10.656779   \n",
       "min       183319.000000     6021.000000    5296.000000         0.000000   \n",
       "25%       273747.000000    13416.000000   14916.000000         3.000000   \n",
       "50%       292311.000000    16617.000000   22543.000000         6.000000   \n",
       "75%       311849.500000    21013.500000   37009.500000        13.000000   \n",
       "max       448949.000000    44929.000000  111988.000000        53.000000   \n",
       "\n",
       "       % of households over $200k  % of households less than $10k  \n",
       "count                  435.000000                      435.000000  \n",
       "mean                     9.721602                        6.050237  \n",
       "std                      6.417955                        2.106075  \n",
       "min                      2.025905                        2.208934  \n",
       "25%                      5.184740                        4.653305  \n",
       "50%                      7.618205                        5.679285  \n",
       "75%                     12.689262                        7.036059  \n",
       "max                     41.846370                       16.858153  "
      ]
     },
     "execution_count": 8,
     "metadata": {},
     "output_type": "execute_result"
    }
   ],
   "source": [
    "merged_df.describe()"
   ]
  },
  {
   "cell_type": "markdown",
   "id": "h5KDsTUKfMKJ",
   "metadata": {
    "id": "h5KDsTUKfMKJ"
   },
   "source": [
    "There are 435 total rows, which matches up with the number of congress members in the 116th congress. Looks pretty good. Let's do a final check by looking at party counts."
   ]
  },
  {
   "cell_type": "code",
   "execution_count": 9,
   "id": "6FAtnwlUxSwn",
   "metadata": {
    "colab": {
     "base_uri": "https://localhost:8080/"
    },
    "id": "6FAtnwlUxSwn",
    "outputId": "a777c4bd-be02-492e-8eef-35e0ba82e49e",
    "tags": []
   },
   "outputs": [
    {
     "data": {
      "text/plain": [
       "Party\n",
       "D    233\n",
       "R    201\n",
       "L      1\n",
       "Name: count, dtype: int64"
      ]
     },
     "execution_count": 9,
     "metadata": {},
     "output_type": "execute_result"
    }
   ],
   "source": [
    "# let's take a look at the party breakdown and sanity check that it looks right\n",
    "merged_df['Party'].value_counts()"
   ]
  },
  {
   "cell_type": "markdown",
   "id": "-4Fqa7Prbh0r",
   "metadata": {
    "id": "-4Fqa7Prbh0r"
   },
   "source": [
    "Let's do our visualization now. We will do a scatter plot of congressional districts and look at the % of households earning over \\$200k on one axis and % of households less than $10k on the other axis. We will color the plot based upon the party affiliation of the districts congress member as of the 116th congress."
   ]
  },
  {
   "cell_type": "code",
   "execution_count": 12,
   "id": "aff74378-e3b4-41a1-abe9-ef8f0fe54f2c",
   "metadata": {
    "tags": []
   },
   "outputs": [
    {
     "data": {
      "text/html": [
       "<div>\n",
       "<style scoped>\n",
       "    .dataframe tbody tr th:only-of-type {\n",
       "        vertical-align: middle;\n",
       "    }\n",
       "\n",
       "    .dataframe tbody tr th {\n",
       "        vertical-align: top;\n",
       "    }\n",
       "\n",
       "    .dataframe thead th {\n",
       "        text-align: right;\n",
       "    }\n",
       "</style>\n",
       "<table border=\"1\" class=\"dataframe\">\n",
       "  <thead>\n",
       "    <tr style=\"text-align: right;\">\n",
       "      <th></th>\n",
       "      <th>Total Households</th>\n",
       "      <th>Less than $10k</th>\n",
       "      <th>$200k+</th>\n",
       "      <th>district number</th>\n",
       "      <th>State</th>\n",
       "      <th>% of households over $200k</th>\n",
       "      <th>% of households less than $10k</th>\n",
       "      <th>Party</th>\n",
       "    </tr>\n",
       "  </thead>\n",
       "  <tbody>\n",
       "    <tr>\n",
       "      <th>0</th>\n",
       "      <td>289474</td>\n",
       "      <td>14153</td>\n",
       "      <td>19390</td>\n",
       "      <td>10</td>\n",
       "      <td>Michigan</td>\n",
       "      <td>6.698356</td>\n",
       "      <td>4.889213</td>\n",
       "      <td>R</td>\n",
       "    </tr>\n",
       "    <tr>\n",
       "      <th>1</th>\n",
       "      <td>299804</td>\n",
       "      <td>23793</td>\n",
       "      <td>10899</td>\n",
       "      <td>4</td>\n",
       "      <td>Mississippi</td>\n",
       "      <td>3.635375</td>\n",
       "      <td>7.936185</td>\n",
       "      <td>R</td>\n",
       "    </tr>\n",
       "    <tr>\n",
       "      <th>2</th>\n",
       "      <td>278057</td>\n",
       "      <td>27728</td>\n",
       "      <td>19574</td>\n",
       "      <td>14</td>\n",
       "      <td>Michigan</td>\n",
       "      <td>7.039564</td>\n",
       "      <td>9.972056</td>\n",
       "      <td>D</td>\n",
       "    </tr>\n",
       "    <tr>\n",
       "      <th>3</th>\n",
       "      <td>306685</td>\n",
       "      <td>19036</td>\n",
       "      <td>12208</td>\n",
       "      <td>1</td>\n",
       "      <td>Michigan</td>\n",
       "      <td>3.980632</td>\n",
       "      <td>6.207020</td>\n",
       "      <td>R</td>\n",
       "    </tr>\n",
       "    <tr>\n",
       "      <th>4</th>\n",
       "      <td>285554</td>\n",
       "      <td>26481</td>\n",
       "      <td>12412</td>\n",
       "      <td>3</td>\n",
       "      <td>Mississippi</td>\n",
       "      <td>4.346638</td>\n",
       "      <td>9.273552</td>\n",
       "      <td>R</td>\n",
       "    </tr>\n",
       "    <tr>\n",
       "      <th>...</th>\n",
       "      <td>...</td>\n",
       "      <td>...</td>\n",
       "      <td>...</td>\n",
       "      <td>...</td>\n",
       "      <td>...</td>\n",
       "      <td>...</td>\n",
       "      <td>...</td>\n",
       "      <td>...</td>\n",
       "    </tr>\n",
       "    <tr>\n",
       "      <th>430</th>\n",
       "      <td>297714</td>\n",
       "      <td>15159</td>\n",
       "      <td>18947</td>\n",
       "      <td>6</td>\n",
       "      <td>Missouri</td>\n",
       "      <td>6.364162</td>\n",
       "      <td>5.091800</td>\n",
       "      <td>R</td>\n",
       "    </tr>\n",
       "    <tr>\n",
       "      <th>431</th>\n",
       "      <td>320905</td>\n",
       "      <td>19373</td>\n",
       "      <td>14584</td>\n",
       "      <td>7</td>\n",
       "      <td>Missouri</td>\n",
       "      <td>4.544647</td>\n",
       "      <td>6.036989</td>\n",
       "      <td>R</td>\n",
       "    </tr>\n",
       "    <tr>\n",
       "      <th>432</th>\n",
       "      <td>282817</td>\n",
       "      <td>24427</td>\n",
       "      <td>8871</td>\n",
       "      <td>5</td>\n",
       "      <td>Michigan</td>\n",
       "      <td>3.136657</td>\n",
       "      <td>8.637034</td>\n",
       "      <td>D</td>\n",
       "    </tr>\n",
       "    <tr>\n",
       "      <th>433</th>\n",
       "      <td>287908</td>\n",
       "      <td>17508</td>\n",
       "      <td>15476</td>\n",
       "      <td>6</td>\n",
       "      <td>Michigan</td>\n",
       "      <td>5.375328</td>\n",
       "      <td>6.081109</td>\n",
       "      <td>R</td>\n",
       "    </tr>\n",
       "    <tr>\n",
       "      <th>434</th>\n",
       "      <td>291660</td>\n",
       "      <td>15750</td>\n",
       "      <td>31091</td>\n",
       "      <td>8</td>\n",
       "      <td>Michigan</td>\n",
       "      <td>10.660015</td>\n",
       "      <td>5.400123</td>\n",
       "      <td>D</td>\n",
       "    </tr>\n",
       "  </tbody>\n",
       "</table>\n",
       "<p>435 rows × 8 columns</p>\n",
       "</div>"
      ],
      "text/plain": [
       "     Total Households  Less than $10k  $200k+  district number        State  \\\n",
       "0              289474           14153   19390               10     Michigan   \n",
       "1              299804           23793   10899                4  Mississippi   \n",
       "2              278057           27728   19574               14     Michigan   \n",
       "3              306685           19036   12208                1     Michigan   \n",
       "4              285554           26481   12412                3  Mississippi   \n",
       "..                ...             ...     ...              ...          ...   \n",
       "430            297714           15159   18947                6     Missouri   \n",
       "431            320905           19373   14584                7     Missouri   \n",
       "432            282817           24427    8871                5     Michigan   \n",
       "433            287908           17508   15476                6     Michigan   \n",
       "434            291660           15750   31091                8     Michigan   \n",
       "\n",
       "     % of households over $200k  % of households less than $10k Party  \n",
       "0                      6.698356                        4.889213     R  \n",
       "1                      3.635375                        7.936185     R  \n",
       "2                      7.039564                        9.972056     D  \n",
       "3                      3.980632                        6.207020     R  \n",
       "4                      4.346638                        9.273552     R  \n",
       "..                          ...                             ...   ...  \n",
       "430                    6.364162                        5.091800     R  \n",
       "431                    4.544647                        6.036989     R  \n",
       "432                    3.136657                        8.637034     D  \n",
       "433                    5.375328                        6.081109     R  \n",
       "434                   10.660015                        5.400123     D  \n",
       "\n",
       "[435 rows x 8 columns]"
      ]
     },
     "execution_count": 12,
     "metadata": {},
     "output_type": "execute_result"
    }
   ],
   "source": [
    "merged_df"
   ]
  },
  {
   "cell_type": "code",
   "execution_count": 10,
   "id": "vPuB_6Uj3zBD",
   "metadata": {
    "colab": {
     "base_uri": "https://localhost:8080/",
     "height": 714
    },
    "id": "vPuB_6Uj3zBD",
    "outputId": "c24df85b-fc57-42af-c1a6-0263fdda958a",
    "tags": []
   },
   "outputs": [
    {
     "data": {
      "image/png": "[encoded data removed]",
      "text/plain": [
       "<Figure size 1500x1200 with 1 Axes>"
      ]
     },
     "metadata": {},
     "output_type": "display_data"
    }
   ],
   "source": [
    "R = merged_df[merged_df['Party'].str.contains('R')]\n",
    "D = merged_df[merged_df['Party'].str.contains('D')]\n",
    "L = merged_df[merged_df['Party'].str.contains('L')]\n",
    "\n",
    "fig, ax = plt.subplots(figsize=(15, 12))\n",
    "R.plot.scatter(x='% of households over $200k', y='% of households less than $10k', c='red',label='Republican', ax=ax)\n",
    "D.plot.scatter(x='% of households over $200k', y='% of households less than $10k',c='blue',label='Democrat', ax=ax)\n",
    "L.plot.scatter(x='% of households over $200k', y='% of households less than $10k',c='gold',label='Libertarian', ax=ax)\n",
    "\n",
    "#for i, txt in enumerate(df['State']):\n",
    "#   ax.annotate(txt, (df['% of households over $200k'].iat[i], df['% of households less than $10k'].iat[i]))\n",
    "\n",
    "plt.legend()\n",
    "plt.show()"
   ]
  },
  {
   "cell_type": "markdown",
   "id": "0KYyXGG-b8i-",
   "metadata": {
    "id": "0KYyXGG-b8i-"
   },
   "source": [
    "What conclusions do you draw from this data? In what ways could this be misleading? Is there a better visualization that you would use here? What would be your followup analysis?"
   ]
  },
  {
   "cell_type": "code",
   "execution_count": 11,
   "id": "Xgc5WaakpWea",
   "metadata": {
    "id": "Xgc5WaakpWea",
    "tags": []
   },
   "outputs": [],
   "source": [
    "merged_df.to_csv(\"congressional_district_with_parties.csv\")"
   ]
  },
  {
   "cell_type": "code",
   "execution_count": null,
   "id": "9N2zemrBHveV",
   "metadata": {
    "id": "9N2zemrBHveV"
   },
   "outputs": [],
   "source": []
  }
 ],
 "metadata": {
  "colab": {
   "provenance": []
  },
  "kernelspec": {
   "display_name": "Python 3 (ipykernel)",
   "language": "python",
   "name": "python3"
  },
  "language_info": {
   "codemirror_mode": {
    "name": "ipython",
    "version": 3
   },
   "file_extension": ".py",
   "mimetype": "text/x-python",
   "name": "python",
   "nbconvert_exporter": "python",
   "pygments_lexer": "ipython3",
   "version": "3.11.5"
  },
  "toc-autonumbering": false,
  "toc-showcode": true
 },
 "nbformat": 4,
 "nbformat_minor": 5
}
